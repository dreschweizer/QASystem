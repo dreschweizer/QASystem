{
 "cells": [
  {
   "cell_type": "markdown",
   "metadata": {},
   "source": [
    "# Homework Assignment 4: Q&A System"
   ]
  },
  {
   "cell_type": "markdown",
   "metadata": {},
   "source": [
    "### André Schweizer"
   ]
  },
  {
   "cell_type": "markdown",
   "metadata": {},
   "source": [
    "### Import libraries"
   ]
  },
  {
   "cell_type": "code",
   "execution_count": 423,
   "metadata": {},
   "outputs": [],
   "source": [
    "import os\n",
    "import pandas as pd\n",
    "import nltk\n",
    "from nltk.tokenize import word_tokenize,sent_tokenize\n",
    "import re\n",
    "from nltk.corpus import stopwords\n",
    "from nltk import pos_tag\n",
    "import string\n",
    "import numpy as np\n",
    "import glob\n",
    "import csv\n",
    "from sklearn.feature_extraction.text import TfidfVectorizer\n",
    "from sklearn.feature_extraction.text import CountVectorizer\n",
    "import numpy as np\n",
    "import spacy"
   ]
  },
  {
   "cell_type": "markdown",
   "metadata": {},
   "source": [
    "### Import and clean file with questions"
   ]
  },
  {
   "cell_type": "code",
   "execution_count": 1175,
   "metadata": {},
   "outputs": [],
   "source": [
    "os.chdir('/Users/andreschweizer/Documents/2019W/IEMS 308/Q&A System')\n",
    "\n",
    "with open('Questions.txt', 'r') as f:\n",
    "    questions = f.read()"
   ]
  },
  {
   "cell_type": "code",
   "execution_count": 1176,
   "metadata": {},
   "outputs": [],
   "source": [
    "questions = questions.split('\\n')"
   ]
  },
  {
   "cell_type": "code",
   "execution_count": 1177,
   "metadata": {},
   "outputs": [],
   "source": [
    "questions = filter(None,questions)"
   ]
  },
  {
   "cell_type": "markdown",
   "metadata": {},
   "source": [
    "### Determine question type"
   ]
  },
  {
   "cell_type": "code",
   "execution_count": 1181,
   "metadata": {},
   "outputs": [],
   "source": [
    "# Create list to insert question types\n",
    "qtype = list(pd.Series(0, index = range(0,len(questions))))"
   ]
  },
  {
   "cell_type": "code",
   "execution_count": 1182,
   "metadata": {},
   "outputs": [],
   "source": [
    "# Create dataframe to hold the questions and their respective types\n",
    "qs = pd.DataFrame(questions, columns = ['Question']).join(pd.DataFrame(qtype, columns = ['Type']))"
   ]
  },
  {
   "cell_type": "code",
   "execution_count": 1183,
   "metadata": {
    "scrolled": true
   },
   "outputs": [
    {
     "name": "stderr",
     "output_type": "stream",
     "text": [
      "/anaconda2/lib/python2.7/site-packages/ipykernel_launcher.py:16: SettingWithCopyWarning: \n",
      "A value is trying to be set on a copy of a slice from a DataFrame\n",
      "\n",
      "See the caveats in the documentation: http://pandas.pydata.org/pandas-docs/stable/indexing.html#indexing-view-versus-copy\n",
      "  app.launch_new_instance()\n"
     ]
    }
   ],
   "source": [
    "# Determine the type of question based on the first word\n",
    "count = -1\n",
    "for q in qs.Question:\n",
    "    count = count + 1\n",
    "    sent_tokens = word_tokenize(q)\n",
    "    first_word = sent_tokens[0]\n",
    "    if re.search(r'[Ww]ho',first_word) != None:\n",
    "        qs.Type[count] = ['PERSON']\n",
    "    if re.search(r'[Ww]hen',first_word) != None:\n",
    "        qs.Type[count] = ['EVENT', 'DATE','TIME','CARDINAL']\n",
    "    if re.search(r'[Ww]here',first_word) != None:\n",
    "        qs.Type[count] = ['FAC','ORG','GPE','LOC','EVENT','WORK_OF_ART','LAW']\n",
    "    if re.search(r'[Ww]hat',first_word) != None:\n",
    "        qs.Type[count] = ['ORG','PRODUCT','EVENT','LAW','PERCENT','MONEY','QUANTITY','CARDINAL']\n",
    "    if re.search(r'[Ww]hich',first_word) != None:\n",
    "        qs.Type[count] = ['NORP','ORG']"
   ]
  },
  {
   "cell_type": "code",
   "execution_count": 1184,
   "metadata": {},
   "outputs": [
    {
     "data": {
      "text/html": [
       "<div>\n",
       "<style scoped>\n",
       "    .dataframe tbody tr th:only-of-type {\n",
       "        vertical-align: middle;\n",
       "    }\n",
       "\n",
       "    .dataframe tbody tr th {\n",
       "        vertical-align: top;\n",
       "    }\n",
       "\n",
       "    .dataframe thead th {\n",
       "        text-align: right;\n",
       "    }\n",
       "</style>\n",
       "<table border=\"1\" class=\"dataframe\">\n",
       "  <thead>\n",
       "    <tr style=\"text-align: right;\">\n",
       "      <th></th>\n",
       "      <th>Question</th>\n",
       "      <th>Type</th>\n",
       "    </tr>\n",
       "  </thead>\n",
       "  <tbody>\n",
       "    <tr>\n",
       "      <th>0</th>\n",
       "      <td>Which companies went bankrupt in December 2017?</td>\n",
       "      <td>[NORP, ORG]</td>\n",
       "    </tr>\n",
       "    <tr>\n",
       "      <th>1</th>\n",
       "      <td>Which companies went bankrupt in July 2009?</td>\n",
       "      <td>[NORP, ORG]</td>\n",
       "    </tr>\n",
       "    <tr>\n",
       "      <th>2</th>\n",
       "      <td>Which companies went bankrupt in August 2011?</td>\n",
       "      <td>[NORP, ORG]</td>\n",
       "    </tr>\n",
       "    <tr>\n",
       "      <th>3</th>\n",
       "      <td>What affects GDP?</td>\n",
       "      <td>[ORG, PRODUCT, EVENT, LAW, PERCENT, MONEY, QUA...</td>\n",
       "    </tr>\n",
       "    <tr>\n",
       "      <th>4</th>\n",
       "      <td>What percentage of drop or increase is associa...</td>\n",
       "      <td>[ORG, PRODUCT, EVENT, LAW, PERCENT, MONEY, QUA...</td>\n",
       "    </tr>\n",
       "    <tr>\n",
       "      <th>5</th>\n",
       "      <td>Who is the CEO of Apple?</td>\n",
       "      <td>[PERSON]</td>\n",
       "    </tr>\n",
       "    <tr>\n",
       "      <th>6</th>\n",
       "      <td>Who is the CEO of Berkshire Hathaway?</td>\n",
       "      <td>[PERSON]</td>\n",
       "    </tr>\n",
       "    <tr>\n",
       "      <th>7</th>\n",
       "      <td>Who is the CEO of Amazon?</td>\n",
       "      <td>[PERSON]</td>\n",
       "    </tr>\n",
       "  </tbody>\n",
       "</table>\n",
       "</div>"
      ],
      "text/plain": [
       "                                            Question  \\\n",
       "0    Which companies went bankrupt in December 2017?   \n",
       "1        Which companies went bankrupt in July 2009?   \n",
       "2      Which companies went bankrupt in August 2011?   \n",
       "3                                  What affects GDP?   \n",
       "4  What percentage of drop or increase is associa...   \n",
       "5                           Who is the CEO of Apple?   \n",
       "6              Who is the CEO of Berkshire Hathaway?   \n",
       "7                          Who is the CEO of Amazon?   \n",
       "\n",
       "                                                Type  \n",
       "0                                        [NORP, ORG]  \n",
       "1                                        [NORP, ORG]  \n",
       "2                                        [NORP, ORG]  \n",
       "3  [ORG, PRODUCT, EVENT, LAW, PERCENT, MONEY, QUA...  \n",
       "4  [ORG, PRODUCT, EVENT, LAW, PERCENT, MONEY, QUA...  \n",
       "5                                           [PERSON]  \n",
       "6                                           [PERSON]  \n",
       "7                                           [PERSON]  "
      ]
     },
     "execution_count": 1184,
     "metadata": {},
     "output_type": "execute_result"
    }
   ],
   "source": [
    "qs"
   ]
  },
  {
   "cell_type": "markdown",
   "metadata": {},
   "source": [
    "### Extract keywords"
   ]
  },
  {
   "cell_type": "code",
   "execution_count": 1185,
   "metadata": {},
   "outputs": [
    {
     "data": {
      "text/html": [
       "<div>\n",
       "<style scoped>\n",
       "    .dataframe tbody tr th:only-of-type {\n",
       "        vertical-align: middle;\n",
       "    }\n",
       "\n",
       "    .dataframe tbody tr th {\n",
       "        vertical-align: top;\n",
       "    }\n",
       "\n",
       "    .dataframe thead th {\n",
       "        text-align: right;\n",
       "    }\n",
       "</style>\n",
       "<table border=\"1\" class=\"dataframe\">\n",
       "  <thead>\n",
       "    <tr style=\"text-align: right;\">\n",
       "      <th></th>\n",
       "      <th>Question</th>\n",
       "      <th>Type</th>\n",
       "      <th>FilteredQuestion</th>\n",
       "    </tr>\n",
       "  </thead>\n",
       "  <tbody>\n",
       "    <tr>\n",
       "      <th>0</th>\n",
       "      <td>Which companies went bankrupt in December 2017?</td>\n",
       "      <td>[NORP, ORG]</td>\n",
       "      <td>0</td>\n",
       "    </tr>\n",
       "    <tr>\n",
       "      <th>1</th>\n",
       "      <td>Which companies went bankrupt in July 2009?</td>\n",
       "      <td>[NORP, ORG]</td>\n",
       "      <td>0</td>\n",
       "    </tr>\n",
       "    <tr>\n",
       "      <th>2</th>\n",
       "      <td>Which companies went bankrupt in August 2011?</td>\n",
       "      <td>[NORP, ORG]</td>\n",
       "      <td>0</td>\n",
       "    </tr>\n",
       "    <tr>\n",
       "      <th>3</th>\n",
       "      <td>What affects GDP?</td>\n",
       "      <td>[ORG, PRODUCT, EVENT, LAW, PERCENT, MONEY, QUA...</td>\n",
       "      <td>0</td>\n",
       "    </tr>\n",
       "    <tr>\n",
       "      <th>4</th>\n",
       "      <td>What percentage of drop or increase is associa...</td>\n",
       "      <td>[ORG, PRODUCT, EVENT, LAW, PERCENT, MONEY, QUA...</td>\n",
       "      <td>0</td>\n",
       "    </tr>\n",
       "    <tr>\n",
       "      <th>5</th>\n",
       "      <td>Who is the CEO of Apple?</td>\n",
       "      <td>[PERSON]</td>\n",
       "      <td>0</td>\n",
       "    </tr>\n",
       "    <tr>\n",
       "      <th>6</th>\n",
       "      <td>Who is the CEO of Berkshire Hathaway?</td>\n",
       "      <td>[PERSON]</td>\n",
       "      <td>0</td>\n",
       "    </tr>\n",
       "    <tr>\n",
       "      <th>7</th>\n",
       "      <td>Who is the CEO of Amazon?</td>\n",
       "      <td>[PERSON]</td>\n",
       "      <td>0</td>\n",
       "    </tr>\n",
       "  </tbody>\n",
       "</table>\n",
       "</div>"
      ],
      "text/plain": [
       "                                            Question  \\\n",
       "0    Which companies went bankrupt in December 2017?   \n",
       "1        Which companies went bankrupt in July 2009?   \n",
       "2      Which companies went bankrupt in August 2011?   \n",
       "3                                  What affects GDP?   \n",
       "4  What percentage of drop or increase is associa...   \n",
       "5                           Who is the CEO of Apple?   \n",
       "6              Who is the CEO of Berkshire Hathaway?   \n",
       "7                          Who is the CEO of Amazon?   \n",
       "\n",
       "                                                Type  FilteredQuestion  \n",
       "0                                        [NORP, ORG]                 0  \n",
       "1                                        [NORP, ORG]                 0  \n",
       "2                                        [NORP, ORG]                 0  \n",
       "3  [ORG, PRODUCT, EVENT, LAW, PERCENT, MONEY, QUA...                 0  \n",
       "4  [ORG, PRODUCT, EVENT, LAW, PERCENT, MONEY, QUA...                 0  \n",
       "5                                           [PERSON]                 0  \n",
       "6                                           [PERSON]                 0  \n",
       "7                                           [PERSON]                 0  "
      ]
     },
     "execution_count": 1185,
     "metadata": {},
     "output_type": "execute_result"
    }
   ],
   "source": [
    "# Create column to store filtered questions\n",
    "qs['FilteredQuestion'] = 0\n",
    "qs"
   ]
  },
  {
   "cell_type": "code",
   "execution_count": 1186,
   "metadata": {},
   "outputs": [
    {
     "name": "stderr",
     "output_type": "stream",
     "text": [
      "/anaconda2/lib/python2.7/site-packages/ipykernel_launcher.py:6: SettingWithCopyWarning: \n",
      "A value is trying to be set on a copy of a slice from a DataFrame\n",
      "\n",
      "See the caveats in the documentation: http://pandas.pydata.org/pandas-docs/stable/indexing.html#indexing-view-versus-copy\n",
      "  \n"
     ]
    },
    {
     "data": {
      "text/html": [
       "<div>\n",
       "<style scoped>\n",
       "    .dataframe tbody tr th:only-of-type {\n",
       "        vertical-align: middle;\n",
       "    }\n",
       "\n",
       "    .dataframe tbody tr th {\n",
       "        vertical-align: top;\n",
       "    }\n",
       "\n",
       "    .dataframe thead th {\n",
       "        text-align: right;\n",
       "    }\n",
       "</style>\n",
       "<table border=\"1\" class=\"dataframe\">\n",
       "  <thead>\n",
       "    <tr style=\"text-align: right;\">\n",
       "      <th></th>\n",
       "      <th>Question</th>\n",
       "      <th>Type</th>\n",
       "      <th>FilteredQuestion</th>\n",
       "    </tr>\n",
       "  </thead>\n",
       "  <tbody>\n",
       "    <tr>\n",
       "      <th>0</th>\n",
       "      <td>Which companies went bankrupt in December 2017?</td>\n",
       "      <td>[NORP, ORG]</td>\n",
       "      <td>Which companies went bankrupt in December 2017</td>\n",
       "    </tr>\n",
       "    <tr>\n",
       "      <th>1</th>\n",
       "      <td>Which companies went bankrupt in July 2009?</td>\n",
       "      <td>[NORP, ORG]</td>\n",
       "      <td>Which companies went bankrupt in July 2009</td>\n",
       "    </tr>\n",
       "    <tr>\n",
       "      <th>2</th>\n",
       "      <td>Which companies went bankrupt in August 2011?</td>\n",
       "      <td>[NORP, ORG]</td>\n",
       "      <td>Which companies went bankrupt in August 2011</td>\n",
       "    </tr>\n",
       "    <tr>\n",
       "      <th>3</th>\n",
       "      <td>What affects GDP?</td>\n",
       "      <td>[ORG, PRODUCT, EVENT, LAW, PERCENT, MONEY, QUA...</td>\n",
       "      <td>What affects GDP</td>\n",
       "    </tr>\n",
       "    <tr>\n",
       "      <th>4</th>\n",
       "      <td>What percentage of drop or increase is associa...</td>\n",
       "      <td>[ORG, PRODUCT, EVENT, LAW, PERCENT, MONEY, QUA...</td>\n",
       "      <td>What percentage of drop or increase is associa...</td>\n",
       "    </tr>\n",
       "    <tr>\n",
       "      <th>5</th>\n",
       "      <td>Who is the CEO of Apple?</td>\n",
       "      <td>[PERSON]</td>\n",
       "      <td>Who is the CEO of Apple</td>\n",
       "    </tr>\n",
       "    <tr>\n",
       "      <th>6</th>\n",
       "      <td>Who is the CEO of Berkshire Hathaway?</td>\n",
       "      <td>[PERSON]</td>\n",
       "      <td>Who is the CEO of Berkshire Hathaway</td>\n",
       "    </tr>\n",
       "    <tr>\n",
       "      <th>7</th>\n",
       "      <td>Who is the CEO of Amazon?</td>\n",
       "      <td>[PERSON]</td>\n",
       "      <td>Who is the CEO of Amazon</td>\n",
       "    </tr>\n",
       "  </tbody>\n",
       "</table>\n",
       "</div>"
      ],
      "text/plain": [
       "                                            Question  \\\n",
       "0    Which companies went bankrupt in December 2017?   \n",
       "1        Which companies went bankrupt in July 2009?   \n",
       "2      Which companies went bankrupt in August 2011?   \n",
       "3                                  What affects GDP?   \n",
       "4  What percentage of drop or increase is associa...   \n",
       "5                           Who is the CEO of Apple?   \n",
       "6              Who is the CEO of Berkshire Hathaway?   \n",
       "7                          Who is the CEO of Amazon?   \n",
       "\n",
       "                                                Type  \\\n",
       "0                                        [NORP, ORG]   \n",
       "1                                        [NORP, ORG]   \n",
       "2                                        [NORP, ORG]   \n",
       "3  [ORG, PRODUCT, EVENT, LAW, PERCENT, MONEY, QUA...   \n",
       "4  [ORG, PRODUCT, EVENT, LAW, PERCENT, MONEY, QUA...   \n",
       "5                                           [PERSON]   \n",
       "6                                           [PERSON]   \n",
       "7                                           [PERSON]   \n",
       "\n",
       "                                    FilteredQuestion  \n",
       "0     Which companies went bankrupt in December 2017  \n",
       "1         Which companies went bankrupt in July 2009  \n",
       "2       Which companies went bankrupt in August 2011  \n",
       "3                                   What affects GDP  \n",
       "4  What percentage of drop or increase is associa...  \n",
       "5                            Who is the CEO of Apple  \n",
       "6               Who is the CEO of Berkshire Hathaway  \n",
       "7                           Who is the CEO of Amazon  "
      ]
     },
     "execution_count": 1186,
     "metadata": {},
     "output_type": "execute_result"
    }
   ],
   "source": [
    "# Remove punctuation\n",
    "count = -1\n",
    "for q in qs.Question:\n",
    "    count = count + 1\n",
    "    s = q.translate(None, string.punctuation)\n",
    "    qs.FilteredQuestion[count] = s\n",
    "qs"
   ]
  },
  {
   "cell_type": "code",
   "execution_count": 1187,
   "metadata": {},
   "outputs": [],
   "source": [
    "# Remove stopwords from questions\n",
    "count = -1\n",
    "for q in qs.FilteredQuestion:\n",
    "    count = count + 1\n",
    "    sent_tokens = word_tokenize(q)\n",
    "    filtered_words = [word for word in sent_tokens if word not in stopwords.words(\"english\")]\n",
    "    filtered_sent = ' '.join(filtered_words)\n",
    "    qs.FilteredQuestion[count] = filtered_sent"
   ]
  },
  {
   "cell_type": "code",
   "execution_count": 1188,
   "metadata": {},
   "outputs": [
    {
     "data": {
      "text/html": [
       "<div>\n",
       "<style scoped>\n",
       "    .dataframe tbody tr th:only-of-type {\n",
       "        vertical-align: middle;\n",
       "    }\n",
       "\n",
       "    .dataframe tbody tr th {\n",
       "        vertical-align: top;\n",
       "    }\n",
       "\n",
       "    .dataframe thead th {\n",
       "        text-align: right;\n",
       "    }\n",
       "</style>\n",
       "<table border=\"1\" class=\"dataframe\">\n",
       "  <thead>\n",
       "    <tr style=\"text-align: right;\">\n",
       "      <th></th>\n",
       "      <th>Question</th>\n",
       "      <th>Type</th>\n",
       "      <th>FilteredQuestion</th>\n",
       "    </tr>\n",
       "  </thead>\n",
       "  <tbody>\n",
       "    <tr>\n",
       "      <th>0</th>\n",
       "      <td>Which companies went bankrupt in December 2017?</td>\n",
       "      <td>[NORP, ORG]</td>\n",
       "      <td>Which companies went bankrupt December 2017</td>\n",
       "    </tr>\n",
       "    <tr>\n",
       "      <th>1</th>\n",
       "      <td>Which companies went bankrupt in July 2009?</td>\n",
       "      <td>[NORP, ORG]</td>\n",
       "      <td>Which companies went bankrupt July 2009</td>\n",
       "    </tr>\n",
       "    <tr>\n",
       "      <th>2</th>\n",
       "      <td>Which companies went bankrupt in August 2011?</td>\n",
       "      <td>[NORP, ORG]</td>\n",
       "      <td>Which companies went bankrupt August 2011</td>\n",
       "    </tr>\n",
       "    <tr>\n",
       "      <th>3</th>\n",
       "      <td>What affects GDP?</td>\n",
       "      <td>[ORG, PRODUCT, EVENT, LAW, PERCENT, MONEY, QUA...</td>\n",
       "      <td>What affects GDP</td>\n",
       "    </tr>\n",
       "    <tr>\n",
       "      <th>4</th>\n",
       "      <td>What percentage of drop or increase is associa...</td>\n",
       "      <td>[ORG, PRODUCT, EVENT, LAW, PERCENT, MONEY, QUA...</td>\n",
       "      <td>What percentage drop increase associated property</td>\n",
       "    </tr>\n",
       "    <tr>\n",
       "      <th>5</th>\n",
       "      <td>Who is the CEO of Apple?</td>\n",
       "      <td>[PERSON]</td>\n",
       "      <td>Who CEO Apple</td>\n",
       "    </tr>\n",
       "    <tr>\n",
       "      <th>6</th>\n",
       "      <td>Who is the CEO of Berkshire Hathaway?</td>\n",
       "      <td>[PERSON]</td>\n",
       "      <td>Who CEO Berkshire Hathaway</td>\n",
       "    </tr>\n",
       "    <tr>\n",
       "      <th>7</th>\n",
       "      <td>Who is the CEO of Amazon?</td>\n",
       "      <td>[PERSON]</td>\n",
       "      <td>Who CEO Amazon</td>\n",
       "    </tr>\n",
       "  </tbody>\n",
       "</table>\n",
       "</div>"
      ],
      "text/plain": [
       "                                            Question  \\\n",
       "0    Which companies went bankrupt in December 2017?   \n",
       "1        Which companies went bankrupt in July 2009?   \n",
       "2      Which companies went bankrupt in August 2011?   \n",
       "3                                  What affects GDP?   \n",
       "4  What percentage of drop or increase is associa...   \n",
       "5                           Who is the CEO of Apple?   \n",
       "6              Who is the CEO of Berkshire Hathaway?   \n",
       "7                          Who is the CEO of Amazon?   \n",
       "\n",
       "                                                Type  \\\n",
       "0                                        [NORP, ORG]   \n",
       "1                                        [NORP, ORG]   \n",
       "2                                        [NORP, ORG]   \n",
       "3  [ORG, PRODUCT, EVENT, LAW, PERCENT, MONEY, QUA...   \n",
       "4  [ORG, PRODUCT, EVENT, LAW, PERCENT, MONEY, QUA...   \n",
       "5                                           [PERSON]   \n",
       "6                                           [PERSON]   \n",
       "7                                           [PERSON]   \n",
       "\n",
       "                                    FilteredQuestion  \n",
       "0        Which companies went bankrupt December 2017  \n",
       "1            Which companies went bankrupt July 2009  \n",
       "2          Which companies went bankrupt August 2011  \n",
       "3                                   What affects GDP  \n",
       "4  What percentage drop increase associated property  \n",
       "5                                      Who CEO Apple  \n",
       "6                         Who CEO Berkshire Hathaway  \n",
       "7                                     Who CEO Amazon  "
      ]
     },
     "execution_count": 1188,
     "metadata": {},
     "output_type": "execute_result"
    }
   ],
   "source": [
    "qs"
   ]
  },
  {
   "cell_type": "code",
   "execution_count": 1189,
   "metadata": {},
   "outputs": [],
   "source": [
    "keywords = [[] for x in xrange(len(questions))]"
   ]
  },
  {
   "cell_type": "code",
   "execution_count": 1190,
   "metadata": {
    "scrolled": true
   },
   "outputs": [],
   "source": [
    "# Find nouns\n",
    "count = -1\n",
    "for q in qs.FilteredQuestion:\n",
    "    count = count + 1\n",
    "    sent_tokens = word_tokenize(q)\n",
    "    sent_tagged = pos_tag(sent_tokens)\n",
    "    nouncount = -1\n",
    "    nouns = []\n",
    "    for word in sent_tagged:\n",
    "        if (word[1] == 'NNP' or word[1] == 'NNPS' or word[1] == 'NN' or word[1] == 'NNS'):\n",
    "            nouncount = nouncount + 1\n",
    "            nouns.insert(nouncount,string.lower(word[0]))\n",
    "    keywords[count] = nouns"
   ]
  },
  {
   "cell_type": "code",
   "execution_count": 1191,
   "metadata": {},
   "outputs": [],
   "source": [
    "# Find words in quotation marks\n",
    "count = -1\n",
    "for q in qs.FilteredQuestion:\n",
    "    count = count + 1\n",
    "    match = re.search(r'\\\"(.+?)\\\"', q)\n",
    "    if match != None:\n",
    "        keywords[count].append(match.group())"
   ]
  },
  {
   "cell_type": "code",
   "execution_count": 1192,
   "metadata": {},
   "outputs": [],
   "source": [
    "# Find dates\n",
    "dates = [[] for x in xrange(len(questions))]\n",
    "count = -1\n",
    "\n",
    "for q in qs.FilteredQuestion:\n",
    "    count = count + 1\n",
    "    doc = nlp(unicode(q, errors = 'ignore'))\n",
    "    for entity in doc.ents:\n",
    "        if entity.label_ == 'DATE':\n",
    "            dates[count] = dates[count] + [entity.text]"
   ]
  },
  {
   "cell_type": "code",
   "execution_count": 1193,
   "metadata": {},
   "outputs": [
    {
     "data": {
      "text/plain": [
       "[['companies', 'december'],\n",
       " ['companies', 'july'],\n",
       " ['companies', 'august'],\n",
       " ['gdp'],\n",
       " ['percentage', 'drop', 'increase', 'property'],\n",
       " ['apple'],\n",
       " ['ceo', 'berkshire', 'hathaway'],\n",
       " ['ceo', 'amazon']]"
      ]
     },
     "execution_count": 1193,
     "metadata": {},
     "output_type": "execute_result"
    }
   ],
   "source": [
    "keywords"
   ]
  },
  {
   "cell_type": "markdown",
   "metadata": {},
   "source": [
    "### Import corpus"
   ]
  },
  {
   "cell_type": "code",
   "execution_count": 63,
   "metadata": {},
   "outputs": [],
   "source": [
    "# Create list of paths to files in corpus\n",
    "docpaths = glob.glob('/Users/andreschweizer/Documents/2019W/IEMS 308/Text Analytics/Corpus/' + '[!~]*.txt')"
   ]
  },
  {
   "cell_type": "code",
   "execution_count": 212,
   "metadata": {},
   "outputs": [],
   "source": [
    "# Get texts out of corpus into one list of strings with preliminary sentence segmentation.\n",
    "# Each item is a sentence in the corpus separated by .,!, or ?\n",
    "text = [[] for x in xrange(len(docpaths))]\n",
    "count = -1\n",
    "\n",
    "for element in docpaths:\n",
    "    count = count + 1\n",
    "    with open(element, 'r') as f:\n",
    "        text[count] =  f.read()"
   ]
  },
  {
   "cell_type": "markdown",
   "metadata": {},
   "source": [
    "### Document selection"
   ]
  },
  {
   "cell_type": "code",
   "execution_count": 67,
   "metadata": {},
   "outputs": [],
   "source": [
    "### Create entries for all words in dictionary\n",
    "# Split text into sentences\n",
    "count = -1\n",
    "text_sent = [[] for x in xrange(len(docpaths))]\n",
    "text_words = [[] for x in xrange(len(docpaths))]\n",
    "\n",
    "for doc in text:\n",
    "    count = count + 1\n",
    "    text_sent[count] = re.split(r'[.!?]',doc)\n",
    "    text_words[count] = [[] for x in xrange(len(text_sent[count]))]"
   ]
  },
  {
   "cell_type": "code",
   "execution_count": null,
   "metadata": {
    "scrolled": true
   },
   "outputs": [],
   "source": [
    "# Split text into words\n",
    "doccount = -1\n",
    "\n",
    "for doc in text_sent:\n",
    "    doccount = doccount + 1\n",
    "    sentcount = -1\n",
    "    for sent in doc:\n",
    "        sentcount = sentcount + 1\n",
    "        text_words[doccount][sentcount] = word_tokenize(sent)"
   ]
  },
  {
   "cell_type": "code",
   "execution_count": 98,
   "metadata": {},
   "outputs": [],
   "source": [
    "# Create dictionary with words as keys and empty values\n",
    "words = {}\n",
    "\n",
    "for doc in text_words:\n",
    "    for sent in doc:\n",
    "        for word in sent:\n",
    "            words[word] = []"
   ]
  },
  {
   "cell_type": "code",
   "execution_count": null,
   "metadata": {
    "scrolled": true
   },
   "outputs": [],
   "source": [
    "# Make values of dictionary equal to the docs that contain each of the words\n",
    "doccount = -1\n",
    "\n",
    "for doc in text_words:\n",
    "    doccount = doccount + 1\n",
    "    print(doccount)\n",
    "    for sent in doc:\n",
    "        for word in sent:\n",
    "            words[word] = words[word] + [doccount]"
   ]
  },
  {
   "cell_type": "code",
   "execution_count": null,
   "metadata": {},
   "outputs": [],
   "source": [
    "# Compile list of docs that contain at least one keyword from the questions\n",
    "relevantdocs = [[] for x in xrange(len(questions))]\n",
    "questioncount = -1\n",
    "\n",
    "for q in keywords:\n",
    "    questioncount = questioncount + 1\n",
    "    for word in q:\n",
    "        relevantdocs[questioncount] = list(set(relevantdocs[questioncount] + words[word]))"
   ]
  },
  {
   "cell_type": "code",
   "execution_count": 726,
   "metadata": {},
   "outputs": [],
   "source": [
    "# Remove bytes that can't be understood by decoder\n",
    "textcleaned = [[] for x in xrange(len(docpaths))]\n",
    "count = -1\n",
    "\n",
    "for doc in text:\n",
    "    count = count + 1\n",
    "    textcleaned[count] = unicode(text[count], errors = 'ignore')"
   ]
  },
  {
   "cell_type": "code",
   "execution_count": 220,
   "metadata": {},
   "outputs": [],
   "source": [
    "# Compute tf-idf scores (docs, words)\n",
    "vectorizer = TfidfVectorizer()\n",
    "X = vectorizer.fit_transform(textcleaned)\n",
    "tfidfscores = pd.DataFrame(X.toarray())"
   ]
  },
  {
   "cell_type": "code",
   "execution_count": 228,
   "metadata": {},
   "outputs": [
    {
     "data": {
      "text/html": [
       "<div>\n",
       "<style scoped>\n",
       "    .dataframe tbody tr th:only-of-type {\n",
       "        vertical-align: middle;\n",
       "    }\n",
       "\n",
       "    .dataframe tbody tr th {\n",
       "        vertical-align: top;\n",
       "    }\n",
       "\n",
       "    .dataframe thead th {\n",
       "        text-align: right;\n",
       "    }\n",
       "</style>\n",
       "<table border=\"1\" class=\"dataframe\">\n",
       "  <thead>\n",
       "    <tr style=\"text-align: right;\">\n",
       "      <th></th>\n",
       "      <th>0</th>\n",
       "      <th>1</th>\n",
       "      <th>2</th>\n",
       "      <th>3</th>\n",
       "      <th>4</th>\n",
       "      <th>5</th>\n",
       "      <th>6</th>\n",
       "      <th>7</th>\n",
       "      <th>8</th>\n",
       "      <th>9</th>\n",
       "      <th>...</th>\n",
       "      <th>165381</th>\n",
       "      <th>165382</th>\n",
       "      <th>165383</th>\n",
       "      <th>165384</th>\n",
       "      <th>165385</th>\n",
       "      <th>165386</th>\n",
       "      <th>165387</th>\n",
       "      <th>165388</th>\n",
       "      <th>165389</th>\n",
       "      <th>165390</th>\n",
       "    </tr>\n",
       "  </thead>\n",
       "  <tbody>\n",
       "    <tr>\n",
       "      <th>0</th>\n",
       "      <td>0.001797</td>\n",
       "      <td>0.012511</td>\n",
       "      <td>0.0</td>\n",
       "      <td>0.0</td>\n",
       "      <td>0.0</td>\n",
       "      <td>0.0</td>\n",
       "      <td>0.0</td>\n",
       "      <td>0.0</td>\n",
       "      <td>0.0</td>\n",
       "      <td>0.0</td>\n",
       "      <td>...</td>\n",
       "      <td>0.0</td>\n",
       "      <td>0.0</td>\n",
       "      <td>0.0</td>\n",
       "      <td>0.0</td>\n",
       "      <td>0.0</td>\n",
       "      <td>0.0</td>\n",
       "      <td>0.0</td>\n",
       "      <td>0.0</td>\n",
       "      <td>0.0</td>\n",
       "      <td>0.0</td>\n",
       "    </tr>\n",
       "    <tr>\n",
       "      <th>1</th>\n",
       "      <td>0.000565</td>\n",
       "      <td>0.014668</td>\n",
       "      <td>0.0</td>\n",
       "      <td>0.0</td>\n",
       "      <td>0.0</td>\n",
       "      <td>0.0</td>\n",
       "      <td>0.0</td>\n",
       "      <td>0.0</td>\n",
       "      <td>0.0</td>\n",
       "      <td>0.0</td>\n",
       "      <td>...</td>\n",
       "      <td>0.0</td>\n",
       "      <td>0.0</td>\n",
       "      <td>0.0</td>\n",
       "      <td>0.0</td>\n",
       "      <td>0.0</td>\n",
       "      <td>0.0</td>\n",
       "      <td>0.0</td>\n",
       "      <td>0.0</td>\n",
       "      <td>0.0</td>\n",
       "      <td>0.0</td>\n",
       "    </tr>\n",
       "    <tr>\n",
       "      <th>2</th>\n",
       "      <td>0.000605</td>\n",
       "      <td>0.010718</td>\n",
       "      <td>0.0</td>\n",
       "      <td>0.0</td>\n",
       "      <td>0.0</td>\n",
       "      <td>0.0</td>\n",
       "      <td>0.0</td>\n",
       "      <td>0.0</td>\n",
       "      <td>0.0</td>\n",
       "      <td>0.0</td>\n",
       "      <td>...</td>\n",
       "      <td>0.0</td>\n",
       "      <td>0.0</td>\n",
       "      <td>0.0</td>\n",
       "      <td>0.0</td>\n",
       "      <td>0.0</td>\n",
       "      <td>0.0</td>\n",
       "      <td>0.0</td>\n",
       "      <td>0.0</td>\n",
       "      <td>0.0</td>\n",
       "      <td>0.0</td>\n",
       "    </tr>\n",
       "    <tr>\n",
       "      <th>3</th>\n",
       "      <td>0.002478</td>\n",
       "      <td>0.010978</td>\n",
       "      <td>0.0</td>\n",
       "      <td>0.0</td>\n",
       "      <td>0.0</td>\n",
       "      <td>0.0</td>\n",
       "      <td>0.0</td>\n",
       "      <td>0.0</td>\n",
       "      <td>0.0</td>\n",
       "      <td>0.0</td>\n",
       "      <td>...</td>\n",
       "      <td>0.0</td>\n",
       "      <td>0.0</td>\n",
       "      <td>0.0</td>\n",
       "      <td>0.0</td>\n",
       "      <td>0.0</td>\n",
       "      <td>0.0</td>\n",
       "      <td>0.0</td>\n",
       "      <td>0.0</td>\n",
       "      <td>0.0</td>\n",
       "      <td>0.0</td>\n",
       "    </tr>\n",
       "    <tr>\n",
       "      <th>4</th>\n",
       "      <td>0.000000</td>\n",
       "      <td>0.005429</td>\n",
       "      <td>0.0</td>\n",
       "      <td>0.0</td>\n",
       "      <td>0.0</td>\n",
       "      <td>0.0</td>\n",
       "      <td>0.0</td>\n",
       "      <td>0.0</td>\n",
       "      <td>0.0</td>\n",
       "      <td>0.0</td>\n",
       "      <td>...</td>\n",
       "      <td>0.0</td>\n",
       "      <td>0.0</td>\n",
       "      <td>0.0</td>\n",
       "      <td>0.0</td>\n",
       "      <td>0.0</td>\n",
       "      <td>0.0</td>\n",
       "      <td>0.0</td>\n",
       "      <td>0.0</td>\n",
       "      <td>0.0</td>\n",
       "      <td>0.0</td>\n",
       "    </tr>\n",
       "  </tbody>\n",
       "</table>\n",
       "<p>5 rows × 165391 columns</p>\n",
       "</div>"
      ],
      "text/plain": [
       "     0         1       2       3       4       5       6       7       8       \\\n",
       "0  0.001797  0.012511     0.0     0.0     0.0     0.0     0.0     0.0     0.0   \n",
       "1  0.000565  0.014668     0.0     0.0     0.0     0.0     0.0     0.0     0.0   \n",
       "2  0.000605  0.010718     0.0     0.0     0.0     0.0     0.0     0.0     0.0   \n",
       "3  0.002478  0.010978     0.0     0.0     0.0     0.0     0.0     0.0     0.0   \n",
       "4  0.000000  0.005429     0.0     0.0     0.0     0.0     0.0     0.0     0.0   \n",
       "\n",
       "   9        ...    165381  165382  165383  165384  165385  165386  165387  \\\n",
       "0     0.0   ...       0.0     0.0     0.0     0.0     0.0     0.0     0.0   \n",
       "1     0.0   ...       0.0     0.0     0.0     0.0     0.0     0.0     0.0   \n",
       "2     0.0   ...       0.0     0.0     0.0     0.0     0.0     0.0     0.0   \n",
       "3     0.0   ...       0.0     0.0     0.0     0.0     0.0     0.0     0.0   \n",
       "4     0.0   ...       0.0     0.0     0.0     0.0     0.0     0.0     0.0   \n",
       "\n",
       "   165388  165389  165390  \n",
       "0     0.0     0.0     0.0  \n",
       "1     0.0     0.0     0.0  \n",
       "2     0.0     0.0     0.0  \n",
       "3     0.0     0.0     0.0  \n",
       "4     0.0     0.0     0.0  \n",
       "\n",
       "[5 rows x 165391 columns]"
      ]
     },
     "execution_count": 228,
     "metadata": {},
     "output_type": "execute_result"
    }
   ],
   "source": [
    "tfidfscores.head()"
   ]
  },
  {
   "cell_type": "code",
   "execution_count": 727,
   "metadata": {},
   "outputs": [
    {
     "data": {
      "text/html": [
       "<div>\n",
       "<style scoped>\n",
       "    .dataframe tbody tr th:only-of-type {\n",
       "        vertical-align: middle;\n",
       "    }\n",
       "\n",
       "    .dataframe tbody tr th {\n",
       "        vertical-align: top;\n",
       "    }\n",
       "\n",
       "    .dataframe thead th {\n",
       "        text-align: right;\n",
       "    }\n",
       "</style>\n",
       "<table border=\"1\" class=\"dataframe\">\n",
       "  <thead>\n",
       "    <tr style=\"text-align: right;\">\n",
       "      <th></th>\n",
       "      <th>00</th>\n",
       "      <th>000</th>\n",
       "      <th>0000</th>\n",
       "      <th>00000001</th>\n",
       "      <th>0000000545</th>\n",
       "      <th>0000001</th>\n",
       "      <th>0000009</th>\n",
       "      <th>00001</th>\n",
       "      <th>00001387015</th>\n",
       "      <th>00005</th>\n",
       "      <th>...</th>\n",
       "      <th>zyngazynga</th>\n",
       "      <th>zysman</th>\n",
       "      <th>zytiga</th>\n",
       "      <th>zyuganov</th>\n",
       "      <th>zyuzin</th>\n",
       "      <th>zyuzins</th>\n",
       "      <th>zyvlhwgwekermlk5</th>\n",
       "      <th>zywiec</th>\n",
       "      <th>zzzz</th>\n",
       "      <th>zzzzzzzzzz</th>\n",
       "    </tr>\n",
       "  </thead>\n",
       "  <tbody>\n",
       "    <tr>\n",
       "      <th>0</th>\n",
       "      <td>0.001797</td>\n",
       "      <td>0.012511</td>\n",
       "      <td>0.0</td>\n",
       "      <td>0.0</td>\n",
       "      <td>0.0</td>\n",
       "      <td>0.0</td>\n",
       "      <td>0.0</td>\n",
       "      <td>0.0</td>\n",
       "      <td>0.0</td>\n",
       "      <td>0.0</td>\n",
       "      <td>...</td>\n",
       "      <td>0.0</td>\n",
       "      <td>0.0</td>\n",
       "      <td>0.0</td>\n",
       "      <td>0.0</td>\n",
       "      <td>0.0</td>\n",
       "      <td>0.0</td>\n",
       "      <td>0.0</td>\n",
       "      <td>0.0</td>\n",
       "      <td>0.0</td>\n",
       "      <td>0.0</td>\n",
       "    </tr>\n",
       "    <tr>\n",
       "      <th>1</th>\n",
       "      <td>0.000565</td>\n",
       "      <td>0.014668</td>\n",
       "      <td>0.0</td>\n",
       "      <td>0.0</td>\n",
       "      <td>0.0</td>\n",
       "      <td>0.0</td>\n",
       "      <td>0.0</td>\n",
       "      <td>0.0</td>\n",
       "      <td>0.0</td>\n",
       "      <td>0.0</td>\n",
       "      <td>...</td>\n",
       "      <td>0.0</td>\n",
       "      <td>0.0</td>\n",
       "      <td>0.0</td>\n",
       "      <td>0.0</td>\n",
       "      <td>0.0</td>\n",
       "      <td>0.0</td>\n",
       "      <td>0.0</td>\n",
       "      <td>0.0</td>\n",
       "      <td>0.0</td>\n",
       "      <td>0.0</td>\n",
       "    </tr>\n",
       "    <tr>\n",
       "      <th>2</th>\n",
       "      <td>0.000605</td>\n",
       "      <td>0.010718</td>\n",
       "      <td>0.0</td>\n",
       "      <td>0.0</td>\n",
       "      <td>0.0</td>\n",
       "      <td>0.0</td>\n",
       "      <td>0.0</td>\n",
       "      <td>0.0</td>\n",
       "      <td>0.0</td>\n",
       "      <td>0.0</td>\n",
       "      <td>...</td>\n",
       "      <td>0.0</td>\n",
       "      <td>0.0</td>\n",
       "      <td>0.0</td>\n",
       "      <td>0.0</td>\n",
       "      <td>0.0</td>\n",
       "      <td>0.0</td>\n",
       "      <td>0.0</td>\n",
       "      <td>0.0</td>\n",
       "      <td>0.0</td>\n",
       "      <td>0.0</td>\n",
       "    </tr>\n",
       "    <tr>\n",
       "      <th>3</th>\n",
       "      <td>0.002478</td>\n",
       "      <td>0.010978</td>\n",
       "      <td>0.0</td>\n",
       "      <td>0.0</td>\n",
       "      <td>0.0</td>\n",
       "      <td>0.0</td>\n",
       "      <td>0.0</td>\n",
       "      <td>0.0</td>\n",
       "      <td>0.0</td>\n",
       "      <td>0.0</td>\n",
       "      <td>...</td>\n",
       "      <td>0.0</td>\n",
       "      <td>0.0</td>\n",
       "      <td>0.0</td>\n",
       "      <td>0.0</td>\n",
       "      <td>0.0</td>\n",
       "      <td>0.0</td>\n",
       "      <td>0.0</td>\n",
       "      <td>0.0</td>\n",
       "      <td>0.0</td>\n",
       "      <td>0.0</td>\n",
       "    </tr>\n",
       "    <tr>\n",
       "      <th>4</th>\n",
       "      <td>0.000000</td>\n",
       "      <td>0.005429</td>\n",
       "      <td>0.0</td>\n",
       "      <td>0.0</td>\n",
       "      <td>0.0</td>\n",
       "      <td>0.0</td>\n",
       "      <td>0.0</td>\n",
       "      <td>0.0</td>\n",
       "      <td>0.0</td>\n",
       "      <td>0.0</td>\n",
       "      <td>...</td>\n",
       "      <td>0.0</td>\n",
       "      <td>0.0</td>\n",
       "      <td>0.0</td>\n",
       "      <td>0.0</td>\n",
       "      <td>0.0</td>\n",
       "      <td>0.0</td>\n",
       "      <td>0.0</td>\n",
       "      <td>0.0</td>\n",
       "      <td>0.0</td>\n",
       "      <td>0.0</td>\n",
       "    </tr>\n",
       "  </tbody>\n",
       "</table>\n",
       "<p>5 rows × 165391 columns</p>\n",
       "</div>"
      ],
      "text/plain": [
       "         00       000  0000  00000001  0000000545  0000001  0000009  00001  \\\n",
       "0  0.001797  0.012511   0.0       0.0         0.0      0.0      0.0    0.0   \n",
       "1  0.000565  0.014668   0.0       0.0         0.0      0.0      0.0    0.0   \n",
       "2  0.000605  0.010718   0.0       0.0         0.0      0.0      0.0    0.0   \n",
       "3  0.002478  0.010978   0.0       0.0         0.0      0.0      0.0    0.0   \n",
       "4  0.000000  0.005429   0.0       0.0         0.0      0.0      0.0    0.0   \n",
       "\n",
       "   00001387015  00005     ...      zyngazynga  zysman  zytiga  zyuganov  \\\n",
       "0          0.0    0.0     ...             0.0     0.0     0.0       0.0   \n",
       "1          0.0    0.0     ...             0.0     0.0     0.0       0.0   \n",
       "2          0.0    0.0     ...             0.0     0.0     0.0       0.0   \n",
       "3          0.0    0.0     ...             0.0     0.0     0.0       0.0   \n",
       "4          0.0    0.0     ...             0.0     0.0     0.0       0.0   \n",
       "\n",
       "   zyuzin  zyuzins  zyvlhwgwekermlk5  zywiec  zzzz  zzzzzzzzzz  \n",
       "0     0.0      0.0               0.0     0.0   0.0         0.0  \n",
       "1     0.0      0.0               0.0     0.0   0.0         0.0  \n",
       "2     0.0      0.0               0.0     0.0   0.0         0.0  \n",
       "3     0.0      0.0               0.0     0.0   0.0         0.0  \n",
       "4     0.0      0.0               0.0     0.0   0.0         0.0  \n",
       "\n",
       "[5 rows x 165391 columns]"
      ]
     },
     "execution_count": 727,
     "metadata": {},
     "output_type": "execute_result"
    }
   ],
   "source": [
    "# Change the names of columns in matrix to be the words they represent\n",
    "tfidfscores.columns = vectorizer.get_feature_names()\n",
    "tfidfscores.head()"
   ]
  },
  {
   "cell_type": "code",
   "execution_count": 738,
   "metadata": {
    "scrolled": true
   },
   "outputs": [],
   "source": [
    "# Calculate doc-question scores\n",
    "scorelist = [[] for x in xrange(len(questions))]\n",
    "questioncount = -1\n",
    "\n",
    "for q in questions:\n",
    "    questioncount = questioncount + 1\n",
    "    scorelist[questioncount] = [0 for x in xrange(len(docpaths))]\n",
    "    doccount = -1\n",
    "    for doc in scorelist[questioncount]:\n",
    "        doccount = doccount + 1\n",
    "        for kw in keywords[questioncount]:\n",
    "            scorelist[questioncount][doccount] = scorelist[questioncount][doccount] + tfidfscores[str(kw)][doccount]"
   ]
  },
  {
   "cell_type": "code",
   "execution_count": 739,
   "metadata": {},
   "outputs": [],
   "source": [
    "# Find n docs with highest scores for each question\n",
    "highestscores = [[] for x in xrange(len(questions))]\n",
    "n = 20\n",
    "questioncount = -1\n",
    "\n",
    "for q in range(0,len(highestscores)):\n",
    "    questioncount = questioncount + 1\n",
    "    topnindex = np.argsort(scorelist[q])[-n:]\n",
    "    highestscores[questioncount] = topnindex"
   ]
  },
  {
   "cell_type": "code",
   "execution_count": 740,
   "metadata": {},
   "outputs": [
    {
     "data": {
      "text/plain": [
       "[array([452, 449, 372,  31, 373,   3, 366, 725, 408, 213, 374, 459, 364,\n",
       "        158,  68, 159, 431, 387, 724, 379]),\n",
       " array([602, 594, 591, 608, 616, 246, 211, 569, 605,  68, 581, 431, 610,\n",
       "        158, 159, 216, 229, 212, 577, 213]),\n",
       " array([611, 613, 243, 591, 246, 219, 627, 213, 594, 605, 431, 610, 245,\n",
       "        247, 244, 640,  68, 158, 159, 248]),\n",
       " array([270, 145, 678, 540, 499, 228,  86, 721, 221, 575, 176, 484, 564,\n",
       "         19, 117, 115,  29, 211, 565, 340]),\n",
       " array([240,  64, 652, 341, 527, 486, 701, 394, 176, 115, 337, 314, 352,\n",
       "        149, 361, 379, 585, 180, 369, 229]),\n",
       " array([ 28, 140, 620, 318, 477,  44, 265, 239, 113, 296, 111, 616, 348,\n",
       "        617, 694, 646, 112, 254,  37, 697]),\n",
       " array([439, 639, 120, 277, 590, 216, 567,   3, 123,  60, 602, 122, 660,\n",
       "        426,  59, 486,  44, 508, 424, 487]),\n",
       " array([569, 527, 729, 103, 680, 662, 297, 659, 567, 678, 686, 296, 571,\n",
       "        667, 532, 479, 287, 725, 679, 682])]"
      ]
     },
     "execution_count": 740,
     "metadata": {},
     "output_type": "execute_result"
    }
   ],
   "source": [
    "highestscores"
   ]
  },
  {
   "cell_type": "markdown",
   "metadata": {},
   "source": [
    "### Tag retrieved documents with type"
   ]
  },
  {
   "cell_type": "code",
   "execution_count": null,
   "metadata": {},
   "outputs": [],
   "source": [
    "# Get single list of relevant documents\n",
    "relevantdocs = list(set([j for i in highestscores for j in i]))"
   ]
  },
  {
   "cell_type": "code",
   "execution_count": 402,
   "metadata": {},
   "outputs": [],
   "source": [
    "# Get sentences in relevant documents\n",
    "relevantsentences = [[] for x in xrange(len(relevantdocs))]\n",
    "doccount = -1\n",
    "\n",
    "for doc in relevantdocs:\n",
    "    doccount = doccount + 1\n",
    "    relevantsentences[doccount] = text_sent[doc]"
   ]
  },
  {
   "cell_type": "code",
   "execution_count": 420,
   "metadata": {},
   "outputs": [],
   "source": [
    "# Create list of sentences that are relevant to each question\n",
    "sentsquestions = [[] for x in xrange(len(questions))]\n",
    "questioncount = -1\n",
    "\n",
    "for q in sentsquestions:\n",
    "    questioncount = questioncount + 1\n",
    "    for doc in highestscores[questioncount]:\n",
    "        sentsquestions[questioncount] = sentsquestions[questioncount] + relevantsentences[relevantdocs.index(doc)]"
   ]
  },
  {
   "cell_type": "code",
   "execution_count": 425,
   "metadata": {},
   "outputs": [],
   "source": [
    "# Tag sentences\n",
    "nlp = spacy.load('en_core_web_sm')"
   ]
  },
  {
   "cell_type": "code",
   "execution_count": null,
   "metadata": {},
   "outputs": [],
   "source": [
    "senttags = [[] for x in xrange(len(questions))]\n",
    "\n",
    "for q in range(0, len(sentsquestions)):\n",
    "    senttags[q] = [[] for x in xrange(len(sentsquestions[q]))]\n",
    "    for sent in range(len(sentsquestions[q])):\n",
    "        senttags[q][sent] = nlp(unicode(sentsquestions[q][sent], errors = 'ignore'))"
   ]
  },
  {
   "cell_type": "markdown",
   "metadata": {},
   "source": [
    "### Sentence extraction"
   ]
  },
  {
   "cell_type": "code",
   "execution_count": 1195,
   "metadata": {},
   "outputs": [],
   "source": [
    "# Tag keywords\n",
    "questioncount = -1\n",
    "for q in qs.FilteredQuestion:\n",
    "    questioncount = questioncount + 1\n",
    "    keywords[questioncount] = keywords[questioncount] + dates[questioncount]\n",
    "keywords[0] = keywords[0] + ['bankrupt']\n",
    "    \n",
    "questioncount = -1\n",
    "\n",
    "for q in keywords:\n",
    "    questioncount = questioncount + 1\n",
    "    kwcount = -1\n",
    "    for kw in keywords[questioncount]:\n",
    "        kwcount = kwcount + 1\n",
    "        keywords[questioncount][kwcount] = str(kw)\n",
    "        keywords[questioncount][kwcount] = unicode(keywords[questioncount][kwcount], errors = 'ignore')"
   ]
  },
  {
   "cell_type": "code",
   "execution_count": 1196,
   "metadata": {},
   "outputs": [
    {
     "data": {
      "text/plain": [
       "[[u'companies', u'december', u'December 2017', u'bankrupt'],\n",
       " [u'companies', u'july', u'July 2009'],\n",
       " [u'companies', u'august', u'August 2011'],\n",
       " [u'gdp'],\n",
       " [u'percentage', u'drop', u'increase', u'property'],\n",
       " [u'apple'],\n",
       " [u'ceo', u'berkshire', u'hathaway'],\n",
       " [u'ceo', u'amazon']]"
      ]
     },
     "execution_count": 1196,
     "metadata": {},
     "output_type": "execute_result"
    }
   ],
   "source": [
    "keywords"
   ]
  },
  {
   "cell_type": "code",
   "execution_count": null,
   "metadata": {},
   "outputs": [],
   "source": [
    "# Find sentences that contain at least one of the tags of the question type\n",
    "importantsents = [[] for x in xrange(len(questions))]\n",
    "questioncount = -1\n",
    "\n",
    "for q in senttags:\n",
    "    questioncount = questioncount + 1\n",
    "    importantsents[questioncount] = [[] for x in xrange(len(senttags[questioncount]))]\n",
    "    sentcount = -1\n",
    "    for sent in q:\n",
    "        sentcount = sentcount + 1\n",
    "        relevant = False\n",
    "        if sent.ents:\n",
    "            for entity in sent.ents:\n",
    "                if entity.label_ in qs.Type[questioncount]:\n",
    "                    relevant = True\n",
    "                    break\n",
    "        importantsents[questioncount][sentcount] = relevant"
   ]
  },
  {
   "cell_type": "code",
   "execution_count": 763,
   "metadata": {},
   "outputs": [],
   "source": [
    "# Only keep sentences that contain the same tag\n",
    "finalsents = [[] for x in xrange(len(questions))]\n",
    "questioncount = -1\n",
    "\n",
    "for q in sentsquestions:\n",
    "    questioncount = questioncount + 1\n",
    "    sentcount = -1\n",
    "    for sent in q:\n",
    "        sentcount = sentcount + 1\n",
    "        if importantsents[questioncount][sentcount]:\n",
    "            finalsents[questioncount] = finalsents[questioncount] + [sentsquestions[questioncount][sentcount]]"
   ]
  },
  {
   "cell_type": "markdown",
   "metadata": {},
   "source": [
    "### Score sentences"
   ]
  },
  {
   "cell_type": "code",
   "execution_count": 1197,
   "metadata": {},
   "outputs": [],
   "source": [
    "# Add expressions in questions to be used as search parameters in sentences\n",
    "questioncount = -1\n",
    "\n",
    "for q in questions:\n",
    "    questioncount = questioncount + 1\n",
    "    r = Rake()\n",
    "    r.extract_keywords_from_text(q)\n",
    "    newkws = r.get_ranked_phrases()\n",
    "    keywords[questioncount] = keywords[questioncount] + newkws\n",
    "    \n",
    "keywords[0] = keywords[0] + ['bankrupt']"
   ]
  },
  {
   "cell_type": "code",
   "execution_count": 1198,
   "metadata": {
    "scrolled": true
   },
   "outputs": [
    {
     "data": {
      "text/plain": [
       "[[u'companies',\n",
       "  u'december',\n",
       "  u'December 2017',\n",
       "  u'bankrupt',\n",
       "  'companies went bankrupt',\n",
       "  'december 2017',\n",
       "  'bankrupt'],\n",
       " [u'companies', u'july', u'July 2009', 'companies went bankrupt', 'july 2009'],\n",
       " [u'companies',\n",
       "  u'august',\n",
       "  u'August 2011',\n",
       "  'companies went bankrupt',\n",
       "  'august 2011'],\n",
       " [u'gdp', 'affects gdp'],\n",
       " [u'percentage',\n",
       "  u'drop',\n",
       "  u'increase',\n",
       "  u'property',\n",
       "  'property',\n",
       "  'percentage',\n",
       "  'increase',\n",
       "  'drop',\n",
       "  'associated'],\n",
       " [u'apple', 'ceo', 'apple'],\n",
       " [u'ceo', u'berkshire', u'hathaway', 'berkshire hathaway', 'ceo'],\n",
       " [u'ceo', u'amazon', 'ceo', 'amazon']]"
      ]
     },
     "execution_count": 1198,
     "metadata": {},
     "output_type": "execute_result"
    }
   ],
   "source": [
    "keywords"
   ]
  },
  {
   "cell_type": "code",
   "execution_count": 766,
   "metadata": {},
   "outputs": [],
   "source": [
    "# Find number of keywords of each question present in each of the sentences\n",
    "sentscores2 = [[] for x in xrange(len(questions))]\n",
    "questioncount =  -1\n",
    "\n",
    "for q in keywords:\n",
    "    questioncount = questioncount + 1\n",
    "    sentscores2[questioncount] = [0 for x in xrange(len(finalsents[questioncount]))]\n",
    "    sentcount = -1\n",
    "    for sent in finalsents[questioncount]:\n",
    "        sentcount = sentcount + 1\n",
    "        for kw in q:\n",
    "            if kw in str.lower(str(unicode(sent, errors = 'ignore'))):\n",
    "                sentscores2[questioncount][sentcount] = sentscores2[questioncount][sentcount] + 1"
   ]
  },
  {
   "cell_type": "code",
   "execution_count": 1203,
   "metadata": {},
   "outputs": [],
   "source": [
    "# Find n sentences with highest number of keywords for each question\n",
    "bestsents2= [[] for x in xrange(len(questions))]\n",
    "n = 5\n",
    "questioncount = -1\n",
    "\n",
    "for q in range(0,len(bestsents2)):\n",
    "    questioncount = questioncount + 1\n",
    "    topnindex = np.argsort(sentscores2[q])[-n:]\n",
    "    bestsents2[questioncount] = topnindex"
   ]
  },
  {
   "cell_type": "code",
   "execution_count": 1204,
   "metadata": {},
   "outputs": [
    {
     "data": {
      "text/plain": [
       "[array([ 301,  718, 6987,  715, 6931]),\n",
       " array([9022, 5196, 5708, 4862, 6298]),\n",
       " array([ 288,  317,  302,   25, 6729]),\n",
       " array([ 7926, 10121,   359,  5809,  6620]),\n",
       " array([ 3485,  3689, 12648, 11211,  2244]),\n",
       " array([1794, 3549,  751,  365, 3382]),\n",
       " array([1046,  386, 4071, 4192, 1327]),\n",
       " array([1603, 2893, 1221, 1425, 3591])]"
      ]
     },
     "execution_count": 1204,
     "metadata": {},
     "output_type": "execute_result"
    }
   ],
   "source": [
    "bestsents2"
   ]
  },
  {
   "cell_type": "markdown",
   "metadata": {},
   "source": [
    "### Extract answers from best sentences"
   ]
  },
  {
   "cell_type": "code",
   "execution_count": 1205,
   "metadata": {},
   "outputs": [],
   "source": [
    "# Create answers\n",
    "answers = [[] for x in range(0,len(questions))]\n",
    "sentwithanswer = [[] for x in range (0,len(questions))]\n",
    "questioncount = -1\n",
    "\n",
    "# Find CEO names\n",
    "for q in questions:\n",
    "    questioncount = questioncount + 1\n",
    "    if re.search(r'[Ww]ho', q) != None:\n",
    "        match = re.search(r'CEO\\s([A-Z](?:[a-zA-Z0-9])+\\s[A-Z](?:[a-zA-Z0-9])+)', finalsents[questioncount][bestsents2[questioncount][0]])\n",
    "        if match != None:\n",
    "            answers[questioncount] = (answers[questioncount] + [match.group()[4:]])[0]\n",
    "            sentwithanswer[questioncount] = bestsents2[questioncount][0]\n",
    "\n",
    "questioncount = -1\n",
    "\n",
    "for q in answers:\n",
    "    questioncount = questioncount + 1\n",
    "    if type(q) == str:\n",
    "        answers[questioncount] = unicode(q, errors = 'ignore')\n",
    "        "
   ]
  },
  {
   "cell_type": "code",
   "execution_count": 1206,
   "metadata": {},
   "outputs": [
    {
     "data": {
      "text/plain": [
       "[[], [], [], [], [], u'Tim Cook', u'Warren Buffett', u'Jeff Bezos']"
      ]
     },
     "execution_count": 1206,
     "metadata": {},
     "output_type": "execute_result"
    }
   ],
   "source": [
    "answers"
   ]
  },
  {
   "cell_type": "code",
   "execution_count": 1207,
   "metadata": {},
   "outputs": [],
   "source": [
    "# Find GDP factor\n",
    "questioncount = -1\n",
    "\n",
    "for q in questions:\n",
    "    questioncount = questioncount + 1\n",
    "    foundanswer = False\n",
    "    if re.search(r'[AaEe]ffect.+?\\sGDP', q) != None:\n",
    "        for sent in bestsents2[questioncount]:\n",
    "            doc = nlp(unicode(finalsents[questioncount][sent], errors = 'ignore'))\n",
    "            for entity in doc.ents:\n",
    "                if entity.label_ == 'ORG' and re.search(r'GDP', entity.text) == None:\n",
    "                    foundanswer = True\n",
    "                    answers[questioncount] = entity.text[1:]\n",
    "                    sentwithanswer[questioncount] = sent\n",
    "                    break\n",
    "            if foundanswer:\n",
    "                break"
   ]
  },
  {
   "cell_type": "code",
   "execution_count": 1208,
   "metadata": {},
   "outputs": [
    {
     "data": {
      "text/plain": [
       "[[],\n",
       " [],\n",
       " [],\n",
       " u'Personal Consumption',\n",
       " [],\n",
       " u'Tim Cook',\n",
       " u'Warren Buffett',\n",
       " u'Jeff Bezos']"
      ]
     },
     "execution_count": 1208,
     "metadata": {},
     "output_type": "execute_result"
    }
   ],
   "source": [
    "answers"
   ]
  },
  {
   "cell_type": "code",
   "execution_count": 1209,
   "metadata": {},
   "outputs": [],
   "source": [
    "# Find related percentage\n",
    "questioncount = -1\n",
    "\n",
    "for q in questions:\n",
    "    questioncount = questioncount + 1\n",
    "    if re.search(r'[AaEe]ffect.+?\\sGDP', q) != None:\n",
    "            match = re.search(r'([0-9]+\\%)', finalsents[questioncount][sentwithanswer[questioncount]])\n",
    "            if match != None:\n",
    "                answers[questioncount + 1] = unicode(match.group(), errors = 'ignore')"
   ]
  },
  {
   "cell_type": "code",
   "execution_count": 1210,
   "metadata": {},
   "outputs": [
    {
     "data": {
      "text/plain": [
       "[[],\n",
       " [],\n",
       " [],\n",
       " u'Personal Consumption',\n",
       " u'71%',\n",
       " u'Tim Cook',\n",
       " u'Warren Buffett',\n",
       " u'Jeff Bezos']"
      ]
     },
     "execution_count": 1210,
     "metadata": {},
     "output_type": "execute_result"
    }
   ],
   "source": [
    "answers"
   ]
  },
  {
   "cell_type": "code",
   "execution_count": 1211,
   "metadata": {},
   "outputs": [],
   "source": [
    "# Bankrupt companies\n",
    "questioncount = -1\n",
    "\n",
    "for q in questions:\n",
    "    questioncount = questioncount + 1\n",
    "    if 'bankrupt' in q:\n",
    "        for sent in bestsents2[questioncount]:\n",
    "            doc = nlp(unicode(finalsents[questioncount][sent], errors = 'ignore'))\n",
    "            for entity in doc.ents:\n",
    "                if entity.label_ == 'ORG':\n",
    "                    answers[questioncount].append(entity.text)"
   ]
  },
  {
   "cell_type": "code",
   "execution_count": 1212,
   "metadata": {},
   "outputs": [
    {
     "data": {
      "text/plain": [
       "[[u' RED INK Bank of America',\n",
       "  u'Merrill Lynch',\n",
       "  u'Lehman Brothers Holdings Inc',\n",
       "  u'Merrill',\n",
       "  u' The exchange',\n",
       "  u'U',\n",
       "  u'Tokyo Metropolitan Police',\n",
       "  u'the Russian Central Bank',\n",
       "  u'RCB',\n",
       "  u'Trust Bank'],\n",
       " [u' The Business Dynamics Statistics',\n",
       "  u'Hathaway',\n",
       "  u'Citi',\n",
       "  u'CNBC',\n",
       "  u'FREE AppDownload\\r\\n',\n",
       "  u'Reuters',\n",
       "  u' Time Warneris'],\n",
       " [u' US',\n",
       "  u' US',\n",
       "  u' US',\n",
       "  u'CFA Institute',\n",
       "  u'CFA Institute',\n",
       "  u'the Ministry of Transport'],\n",
       " u'Personal Consumption',\n",
       " u'71%',\n",
       " u'Tim Cook',\n",
       " u'Warren Buffett',\n",
       " u'Jeff Bezos']"
      ]
     },
     "execution_count": 1212,
     "metadata": {},
     "output_type": "execute_result"
    }
   ],
   "source": [
    "answers"
   ]
  },
  {
   "cell_type": "code",
   "execution_count": 1213,
   "metadata": {},
   "outputs": [],
   "source": [
    "# Remove double answers\n",
    "questioncount = -1\n",
    "\n",
    "for q in answers:\n",
    "    questioncount = questioncount + 1\n",
    "    if type(q) != list:\n",
    "        answers[questioncount] = [q]\n",
    "\n",
    "questioncount = -1\n",
    "\n",
    "for q in answers:\n",
    "    questioncount = questioncount + 1\n",
    "    anscount = -1\n",
    "    for ans in answers[questioncount]:\n",
    "        anscount = anscount + 1\n",
    "        if type(answers[questioncount][anscount]) != unicode:\n",
    "            answers[questioncount][anscount] = unicode(answers[questioncount][anscount], errors = 'ignore')\n",
    "\n",
    "questioncount = -1            \n",
    "            \n",
    "for q in answers:\n",
    "    questioncount = questioncount + 1\n",
    "    answers[questioncount] = list(set(answers[questioncount]))"
   ]
  },
  {
   "cell_type": "code",
   "execution_count": 1214,
   "metadata": {},
   "outputs": [
    {
     "data": {
      "text/plain": [
       "[[u'Merrill Lynch',\n",
       "  u'Merrill',\n",
       "  u'Tokyo Metropolitan Police',\n",
       "  u'Trust Bank',\n",
       "  u'U',\n",
       "  u'Lehman Brothers Holdings Inc',\n",
       "  u' The exchange',\n",
       "  u' RED INK Bank of America',\n",
       "  u'the Russian Central Bank',\n",
       "  u'RCB'],\n",
       " [u'FREE AppDownload\\r\\n',\n",
       "  u'CNBC',\n",
       "  u'Hathaway',\n",
       "  u' Time Warneris',\n",
       "  u'Citi',\n",
       "  u'Reuters',\n",
       "  u' The Business Dynamics Statistics'],\n",
       " [u'CFA Institute', u'the Ministry of Transport', u' US'],\n",
       " [u'Personal Consumption'],\n",
       " [u'71%'],\n",
       " [u'Tim Cook'],\n",
       " [u'Warren Buffett'],\n",
       " [u'Jeff Bezos']]"
      ]
     },
     "execution_count": 1214,
     "metadata": {},
     "output_type": "execute_result"
    }
   ],
   "source": [
    "answers"
   ]
  },
  {
   "cell_type": "code",
   "execution_count": 1243,
   "metadata": {},
   "outputs": [],
   "source": [
    "bestsents= []\n",
    "n = 50\n",
    "questioncount = -1\n",
    "\n",
    "topnindex = np.argsort(sentscores2[3])[-n:]\n",
    "bestsents = topnindex"
   ]
  },
  {
   "cell_type": "code",
   "execution_count": 1244,
   "metadata": {},
   "outputs": [],
   "source": [
    "bestsents3 = []\n",
    "\n",
    "for sent in bestsents:\n",
    "    if ('%' or 'percent') in finalsents[3][sent]:\n",
    "        bestsents3.append(finalsents[3][sent])"
   ]
  },
  {
   "cell_type": "code",
   "execution_count": 1390,
   "metadata": {},
   "outputs": [],
   "source": [
    "GDPanswers = [[],[]]\n",
    "# Remove stopwords from new sentences\n",
    "count = -1\n",
    "\n",
    "for sent in bestsents3:\n",
    "    count = count + 1\n",
    "    sent_tokens = word_tokenize(sent)\n",
    "    filtered_words = [word for word in sent_tokens if word not in stopwords.words(\"english\")]\n",
    "    filtered_sent = ' '.join(filtered_words)\n",
    "    bestsents3[count] = filtered_sent"
   ]
  },
  {
   "cell_type": "code",
   "execution_count": 1391,
   "metadata": {},
   "outputs": [],
   "source": [
    "# Take important words\n",
    "foundanswer1 = False\n",
    "justfoundanswer1 = False\n",
    "foundanswer2 = False\n",
    "\n",
    "for sent in bestsents3:\n",
    "    wordtok = word_tokenize(sent)\n",
    "    senttag = pos_tag(wordtok)\n",
    "    for word in senttag:\n",
    "        justfoundanswer1 = False\n",
    "        if word[1] == 'VBZ' and foundanswer1 == False:\n",
    "            GDPanswers[0].append([word[0]])\n",
    "            match = re.search(r'[0-9].+?\\%', sent)\n",
    "            GDPanswers[0].append([match.group()])\n",
    "            foundanswer1 = True\n",
    "            justfoundanswer1 = True\n",
    "        if justfoundanswer1 == False and foundanswer2 == False:\n",
    "            match = re.search(r'([a-z]+\\sspend[a-z]+)\\s',sent)\n",
    "            if match != None:\n",
    "                GDPanswers[1].append([match.group()])\n",
    "                match = re.search(r'[0-9].+?\\%', sent)\n",
    "                GDPanswers[1].append([match.group()])\n",
    "                foundanswer2 = True"
   ]
  },
  {
   "cell_type": "code",
   "execution_count": 1392,
   "metadata": {},
   "outputs": [
    {
     "data": {
      "text/plain": [
       "[[['imports'], ['16 %']], [['consumer spending '], ['39 %']]]"
      ]
     },
     "execution_count": 1392,
     "metadata": {},
     "output_type": "execute_result"
    }
   ],
   "source": [
    "GDPanswers"
   ]
  },
  {
   "cell_type": "code",
   "execution_count": 1393,
   "metadata": {},
   "outputs": [],
   "source": [
    "newanswers = [[] for x in range(0,len(questions)+4)]\n",
    "\n",
    "for ans in range(0,len(newanswers)):\n",
    "    if ans in range(0,5):\n",
    "        newanswers[ans] = answers[ans]\n",
    "    if ans in range(5,7):\n",
    "        newanswers[ans] = GDPanswers[0][ans-5]\n",
    "    if ans in range(7,9):\n",
    "        newanswers[ans] = GDPanswers[1][ans-7]\n",
    "    if ans in range(9,12):\n",
    "        newanswers[ans] = answers[ans-4]"
   ]
  },
  {
   "cell_type": "code",
   "execution_count": 1394,
   "metadata": {},
   "outputs": [
    {
     "data": {
      "text/plain": [
       "[[u'Merrill Lynch',\n",
       "  u'Merrill',\n",
       "  u'Tokyo Metropolitan Police',\n",
       "  u'Trust Bank',\n",
       "  u'U',\n",
       "  u'Lehman Brothers Holdings Inc',\n",
       "  u' The exchange',\n",
       "  u' RED INK Bank of America',\n",
       "  u'the Russian Central Bank',\n",
       "  u'RCB'],\n",
       " [u'FREE AppDownload\\r\\n',\n",
       "  u'CNBC',\n",
       "  u'Hathaway',\n",
       "  u' Time Warneris',\n",
       "  u'Citi',\n",
       "  u'Reuters',\n",
       "  u' The Business Dynamics Statistics'],\n",
       " [u'CFA Institute', u'the Ministry of Transport', u' US'],\n",
       " [u'Personal Consumption'],\n",
       " [u'71%'],\n",
       " ['imports'],\n",
       " ['16 %'],\n",
       " ['consumer spending '],\n",
       " ['39 %'],\n",
       " [u'Tim Cook'],\n",
       " [u'Warren Buffett'],\n",
       " [u'Jeff Bezos']]"
      ]
     },
     "execution_count": 1394,
     "metadata": {},
     "output_type": "execute_result"
    }
   ],
   "source": [
    "newanswers"
   ]
  },
  {
   "cell_type": "code",
   "execution_count": 1395,
   "metadata": {},
   "outputs": [
    {
     "name": "stdout",
     "output_type": "stream",
     "text": [
      "Which companies went bankrupt in December 2017?\n",
      "Merrill Lynch\n",
      "Merrill\n",
      "Tokyo Metropolitan Police\n",
      "Trust Bank\n",
      "U\n",
      "Lehman Brothers Holdings Inc\n",
      " The exchange\n",
      " RED INK Bank of America\n",
      "the Russian Central Bank\n",
      "RCB\n",
      "\n",
      "\n",
      "Which companies went bankrupt in July 2009?\n",
      "FREE AppDownload\r\n",
      "\n",
      "CNBC\n",
      "Hathaway\n",
      " Time Warneris\n",
      "Citi\n",
      "Reuters\n",
      " The Business Dynamics Statistics\n",
      "\n",
      "\n",
      "Which companies went bankrupt in August 2011?\n",
      "CFA Institute\n",
      "the Ministry of Transport\n",
      " US\n",
      "\n",
      "\n",
      "What affects GDP?\n",
      "Personal Consumption\n",
      "\n",
      "\n",
      "What percentage of drop or increase is associated with this property?\n",
      "71%\n",
      "\n",
      "\n",
      "What affects GDP?\n",
      "imports\n",
      "\n",
      "\n",
      "What percentage of drop or increase is associated with this property?\n",
      "16 %\n",
      "\n",
      "\n",
      "What affects GDP?\n",
      "consumer spending \n",
      "\n",
      "\n",
      "What percentage of drop or increase is associated with this property?\n",
      "39 %\n",
      "\n",
      "\n",
      "Who is the CEO of Apple?\n",
      "Tim Cook\n",
      "\n",
      "\n",
      "Who is the CEO of Berkshire Hathaway?\n",
      "Warren Buffett\n",
      "\n",
      "\n",
      "Who is the CEO of Amazon?\n",
      "Jeff Bezos\n",
      "\n",
      "\n"
     ]
    }
   ],
   "source": [
    "# Print answers and questions\n",
    "for q in range(0,len(newanswers)):\n",
    "    if q in range(0,5):\n",
    "        print questions[q]\n",
    "        for ans in newanswers[q]:\n",
    "            print str(ans)\n",
    "        print '\\n'\n",
    "    if q in range(5,7):\n",
    "        print questions[q-2]\n",
    "        print newanswers[q][0]\n",
    "        print '\\n'\n",
    "    if q in range(7,9):\n",
    "        print questions[q-4]\n",
    "        print newanswers[q][0]\n",
    "        print '\\n'\n",
    "    if q in range(9,12):\n",
    "        print questions[q-4]\n",
    "        print newanswers[q][0]\n",
    "        print '\\n'"
   ]
  },
  {
   "cell_type": "code",
   "execution_count": 1397,
   "metadata": {},
   "outputs": [],
   "source": [
    "outputfile = open(\"SampleOutput.txt\",'w')\n",
    "for q in range(0,len(newanswers)):\n",
    "    if q in range(0,5):\n",
    "        outputfile.write(questions[q])\n",
    "        outputfile.write('\\n')\n",
    "        for ans in newanswers[q]:\n",
    "            outputfile.write(str(ans))\n",
    "            outputfile.write('\\n')\n",
    "        outputfile.write('\\n')\n",
    "    if q in range(5,7):\n",
    "        outputfile.write(questions[q-2])\n",
    "        outputfile.write('\\n')\n",
    "        outputfile.write(newanswers[q][0])\n",
    "        outputfile.write('\\n\\n')\n",
    "    if q in range(7,9):\n",
    "        outputfile.write(questions[q-4])\n",
    "        outputfile.write('\\n')\n",
    "        outputfile.write(newanswers[q][0])\n",
    "        outputfile.write('\\n\\n')\n",
    "    if q in range(9,12):\n",
    "        outputfile.write(questions[q-4])\n",
    "        outputfile.write('\\n')\n",
    "        outputfile.write(newanswers[q][0])\n",
    "        outputfile.write('\\n\\n')\n",
    "        \n",
    "outputfile.close()"
   ]
  }
 ],
 "metadata": {
  "kernelspec": {
   "display_name": "Python 2",
   "language": "python",
   "name": "python2"
  },
  "language_info": {
   "codemirror_mode": {
    "name": "ipython",
    "version": 2
   },
   "file_extension": ".py",
   "mimetype": "text/x-python",
   "name": "python",
   "nbconvert_exporter": "python",
   "pygments_lexer": "ipython2",
   "version": "2.7.15"
  }
 },
 "nbformat": 4,
 "nbformat_minor": 2
}
